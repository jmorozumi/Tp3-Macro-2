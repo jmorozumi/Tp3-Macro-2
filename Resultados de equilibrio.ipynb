{
 "cells": [
  {
   "cell_type": "code",
   "execution_count": 5,
   "id": "3ca7e30c-d872-4c24-ac9c-6cb390976d2c",
   "metadata": {},
   "outputs": [
    {
     "name": "stdout",
     "output_type": "stream",
     "text": [
      "El valor de E de equilibrio es: 85.31210711123553\n",
      "El valor de α(E) es: 1.7216657032762566\n",
      "El valor de a(E) es: 0.5808328516372503\n",
      "El valor del salario (w) es: 0.44268164469565646\n"
     ]
    }
   ],
   "source": [
    "import numpy as np\n",
    "from scipy.optimize import fsolve\n",
    "\n",
    "# Parámetros\n",
    "beta = 0.5\n",
    "gamma = 1 - beta\n",
    "A = 1.5\n",
    "K = 1\n",
    "r = 0.04\n",
    "b = 0.1\n",
    "C = 1\n",
    "L_bar = 100\n",
    "\n",
    "# Definición de las funciones α(E) y a(E)\n",
    "def alpha(E):\n",
    "    return K**(1/gamma) * (b*E)**((gamma-1)/gamma) * (L_bar - E)**(beta/gamma)\n",
    "\n",
    "def a(E):\n",
    "    return b * E / (L_bar - E)\n",
    "\n",
    "# Ecuación a resolver: rV_v(E) = -C + α(E)/(a(E) + α(E) + 2b + 2r) * A = 0\n",
    "def equilibrium_equation(E):\n",
    "    return -C + alpha(E) / (a(E) + alpha(E) + 2*b + 2*r) * A\n",
    "\n",
    "# Encontrar el valor de E que satisface la ecuación\n",
    "E_initial_guess = 50  # Suposición inicial para E\n",
    "E_solution = fsolve(equilibrium_equation, E_initial_guess)[0]\n",
    "\n",
    "# Calcular w, α(E) y a(E)\n",
    "alpha_E = alpha(E_solution)\n",
    "a_E = a(E_solution)\n",
    "w = (a_E + b + r) * A / (a_E + alpha_E + r + b)\n",
    "\n",
    "# Mostrar los resultados\n",
    "print(\"El valor de E de equilibrio es:\", E_solution)\n",
    "print(\"El valor de α(E) es:\", alpha_E)\n",
    "print(\"El valor de a(E) es:\", a_E)\n",
    "print(\"El valor del salario (w) es:\", w)\n"
   ]
  },
  {
   "cell_type": "code",
   "execution_count": 8,
   "id": "bd0c4621-f210-40d5-9524-3f160a273fe7",
   "metadata": {},
   "outputs": [
    {
     "name": "stdout",
     "output_type": "stream",
     "text": [
      "El valor de E de equilibrio es: 109.52605545097394\n",
      "El valor de α(E) es: -0.8697524449091472\n",
      "El valor de a(E) es: -1.1497524449091467\n",
      "El valor del salario (w) es: 1.0744877019253374\n"
     ]
    }
   ],
   "source": [
    "# Parámetros\n",
    "beta = 0.5\n",
    "gamma = 1 - beta\n",
    "A = 2\n",
    "K = 1\n",
    "r = 0.04\n",
    "b = 0.1\n",
    "C = 1\n",
    "L_bar = 100\n",
    "\n",
    "# Definición de las funciones α(E) y a(E)\n",
    "def alpha(E):\n",
    "    return K**(1/gamma) * (b*E)**((gamma-1)/gamma) * (L_bar - E)**(beta/gamma)\n",
    "\n",
    "def a(E):\n",
    "    return b * E / (L_bar - E)\n",
    "\n",
    "# Ecuación a resolver: rV_v(E) = -C + α(E)/(a(E) + α(E) + 2b + 2r) * A = 0\n",
    "def equilibrium_equation(E):\n",
    "    return -C + alpha(E) / (a(E) + alpha(E) + 2*b + 2*r) * A\n",
    "\n",
    "# Encontrar el valor de E que satisface la ecuación\n",
    "E_initial_guess = 50  # Suposición inicial para E\n",
    "E_solution = fsolve(equilibrium_equation, E_initial_guess)[0]\n",
    "\n",
    "# Calcular w, α(E) y a(E)\n",
    "alpha_E = alpha(E_solution)\n",
    "a_E = a(E_solution)\n",
    "w = (a_E + b + r) * A / (a_E + alpha_E + r + b)\n",
    "\n",
    "# Mostrar los resultados\n",
    "print(\"El valor de E de equilibrio es:\", E_solution)\n",
    "print(\"El valor de α(E) es:\", alpha_E)\n",
    "print(\"El valor de a(E) es:\", a_E)\n",
    "print(\"El valor del salario (w) es:\", w)"
   ]
  },
  {
   "cell_type": "code",
   "execution_count": 9,
   "id": "a14cbe95-afc2-4e3d-a28f-fbd1ae375ba6",
   "metadata": {},
   "outputs": [
    {
     "name": "stdout",
     "output_type": "stream",
     "text": [
      "El valor de E de equilibrio es: 84.6072727399584\n",
      "El valor de α(E) es: 1.8193149077563757\n",
      "El valor de a(E) es: 0.5496574538781881\n",
      "El valor del salario (w) es: 0.42938330650059603\n"
     ]
    }
   ],
   "source": [
    "# Parámetros\n",
    "beta = 0.5\n",
    "gamma = 1 - beta\n",
    "A = 1.5\n",
    "K = 1\n",
    "r = 0.08\n",
    "b = 0.1\n",
    "C = 1\n",
    "L_bar = 100\n",
    "\n",
    "# Definición de las funciones α(E) y a(E)\n",
    "def alpha(E):\n",
    "    return K**(1/gamma) * (b*E)**((gamma-1)/gamma) * (L_bar - E)**(beta/gamma)\n",
    "\n",
    "def a(E):\n",
    "    return b * E / (L_bar - E)\n",
    "\n",
    "# Ecuación a resolver: rV_v(E) = -C + α(E)/(a(E) + α(E) + 2b + 2r) * A = 0\n",
    "def equilibrium_equation(E):\n",
    "    return -C + alpha(E) / (a(E) + alpha(E) + 2*b + 2*r) * A\n",
    "\n",
    "# Encontrar el valor de E que satisface la ecuación\n",
    "E_initial_guess = 50  # Suposición inicial para E\n",
    "E_solution = fsolve(equilibrium_equation, E_initial_guess)[0]\n",
    "\n",
    "# Calcular w, α(E) y a(E)\n",
    "alpha_E = alpha(E_solution)\n",
    "a_E = a(E_solution)\n",
    "w = (a_E + b + r) * A / (a_E + alpha_E + r + b)\n",
    "\n",
    "# Mostrar los resultados\n",
    "print(\"El valor de E de equilibrio es:\", E_solution)\n",
    "print(\"El valor de α(E) es:\", alpha_E)\n",
    "print(\"El valor de a(E) es:\", a_E)\n",
    "print(\"El valor del salario (w) es:\", w)"
   ]
  }
 ],
 "metadata": {
  "kernelspec": {
   "display_name": "Python 3 (ipykernel)",
   "language": "python",
   "name": "python3"
  },
  "language_info": {
   "codemirror_mode": {
    "name": "ipython",
    "version": 3
   },
   "file_extension": ".py",
   "mimetype": "text/x-python",
   "name": "python",
   "nbconvert_exporter": "python",
   "pygments_lexer": "ipython3",
   "version": "3.11.7"
  }
 },
 "nbformat": 4,
 "nbformat_minor": 5
}
